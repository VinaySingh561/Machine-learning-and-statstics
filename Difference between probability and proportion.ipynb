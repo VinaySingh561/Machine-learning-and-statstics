{
 "cells": [
  {
   "cell_type": "code",
   "execution_count": null,
   "id": "3af682a1",
   "metadata": {},
   "outputs": [],
   "source": [
    "## Here we will compute probability of drawing a random ball out of jar "
   ]
  },
  {
   "cell_type": "code",
   "execution_count": 1,
   "id": "9a7a2311",
   "metadata": {},
   "outputs": [],
   "source": [
    "import numpy as np\n",
    "import matplotlib.pyplot as plt\n",
    "import random"
   ]
  },
  {
   "cell_type": "code",
   "execution_count": 2,
   "id": "b44c7747",
   "metadata": {},
   "outputs": [],
   "source": [
    "yellow  = 50\n",
    "pink = 30\n",
    "red = 100\n",
    "total_balls = yellow + pink +red\n",
    " ## putting these balls in a jar"
   ]
  },
  {
   "cell_type": "code",
   "execution_count": 3,
   "id": "a11bb579",
   "metadata": {},
   "outputs": [
    {
     "name": "stdout",
     "output_type": "stream",
     "text": [
      "[1. 1. 1. 1. 1. 1. 1. 1. 1. 1. 1. 1. 1. 1. 1. 1. 1. 1. 1. 1. 1. 1. 1. 1.\n",
      " 1. 1. 1. 1. 1. 1. 1. 1. 1. 1. 1. 1. 1. 1. 1. 1. 1. 1. 1. 1. 1. 1. 1. 1.\n",
      " 1. 1. 2. 2. 2. 2. 2. 2. 2. 2. 2. 2. 2. 2. 2. 2. 2. 2. 2. 2. 2. 2. 2. 2.\n",
      " 2. 2. 2. 2. 2. 2. 2. 2. 3. 3. 3. 3. 3. 3. 3. 3. 3. 3. 3. 3. 3. 3. 3. 3.\n",
      " 3. 3. 3. 3. 3. 3. 3. 3. 3. 3. 3. 3. 3. 3. 3. 3. 3. 3. 3. 3. 3. 3. 3. 3.\n",
      " 3. 3. 3. 3. 3. 3. 3. 3. 3. 3. 3. 3. 3. 3. 3. 3. 3. 3. 3. 3. 3. 3. 3. 3.\n",
      " 3. 3. 3. 3. 3. 3. 3. 3. 3. 3. 3. 3. 3. 3. 3. 3. 3. 3. 3. 3. 3. 3. 3. 3.\n",
      " 3. 3. 3. 3. 3. 3. 3. 3. 3. 3. 3. 3.]\n"
     ]
    }
   ],
   "source": [
    "jar = np.hstack([1*np.ones(yellow), 2*np.ones(pink), 3*np.ones(red)])\n",
    "print(jar)\n",
    "## here we have put balls in a very uniform manner its not random"
   ]
  },
  {
   "cell_type": "code",
   "execution_count": 4,
   "id": "56017184",
   "metadata": {},
   "outputs": [],
   "source": [
    "## now we will draw balls randomly"
   ]
  },
  {
   "cell_type": "code",
   "execution_count": 7,
   "id": "2da7be31",
   "metadata": {},
   "outputs": [
    {
     "name": "stdout",
     "output_type": "stream",
     "text": [
      "prop_yellow :  0.233\n",
      "prop_pink :  0.235\n",
      "prop_red :  0.262\n"
     ]
    }
   ],
   "source": [
    "draw = 1000\n",
    "draws = np.ones(draw)\n",
    "for i in range(draw):\n",
    "    draws[i] = int(np.random.rand()*4)\n",
    "    \n",
    "#print(draws)    \n",
    "## calculating proportion of draws:\n",
    "prop_yellow =  sum(draws == 1)/draw\n",
    "prop_pink =  sum(draws == 2)/draw\n",
    "prop_red =  sum(draws == 3)/draw\n",
    "\n",
    "print('prop_yellow : ', prop_yellow)\n",
    "print('prop_pink : ', prop_pink)\n",
    "print('prop_red : ', prop_red)\n"
   ]
  },
  {
   "cell_type": "code",
   "execution_count": 6,
   "id": "0a9bb8d5",
   "metadata": {},
   "outputs": [
    {
     "data": {
      "image/png": "[encoded data removed]",
      "text/plain": [
       "<Figure size 432x288 with 1 Axes>"
      ]
     },
     "metadata": {
      "needs_background": "light"
     },
     "output_type": "display_data"
    }
   ],
   "source": [
    "## now we need to plot proportion of draws and probability of drawina a marble\n",
    "plt.bar([1,2,3],[prop_yellow,prop_pink,prop_red], label = 'Prop')### propotion\n",
    "plt.plot([0.5,1.5], [yellow/total_balls,yellow/total_balls], color = 'red')\n",
    "plt.plot([1.5,2.5], [pink/total_balls,pink/total_balls], color = 'red')\n",
    "plt.plot([2.5,3.5], [red/total_balls,red/total_balls], color = 'red')\n",
    "\n",
    "\n",
    "\n",
    "plt.show()"
   ]
  },
  {
   "cell_type": "code",
   "execution_count": null,
   "id": "ae7b4d4f",
   "metadata": {},
   "outputs": [],
   "source": []
  },
  {
   "cell_type": "code",
   "execution_count": null,
   "id": "22e005f3",
   "metadata": {},
   "outputs": [],
   "source": []
  }
 ],
 "metadata": {
  "kernelspec": {
   "display_name": "Python 3",
   "language": "python",
   "name": "python3"
  },
  "language_info": {
   "codemirror_mode": {
    "name": "ipython",
    "version": 3
   },
   "file_extension": ".py",
   "mimetype": "text/x-python",
   "name": "python",
   "nbconvert_exporter": "python",
   "pygments_lexer": "ipython3",
   "version": "3.8.8"
  }
 },
 "nbformat": 4,
 "nbformat_minor": 5
}
