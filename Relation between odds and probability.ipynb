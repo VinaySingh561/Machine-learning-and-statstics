{
 "cells": [
  {
   "cell_type": "code",
   "execution_count": 1,
   "id": "790e62f3",
   "metadata": {},
   "outputs": [],
   "source": [
    "## here we will ty to find out visual relationship between odds and probability."
   ]
  },
  {
   "cell_type": "code",
   "execution_count": 2,
   "id": "77cffb7f",
   "metadata": {},
   "outputs": [],
   "source": [
    "## odds  = (1-p)/p"
   ]
  },
  {
   "cell_type": "code",
   "execution_count": 4,
   "id": "21ca6e6a",
   "metadata": {},
   "outputs": [],
   "source": [
    "import matplotlib.pyplot as plt\n",
    "import numpy as np"
   ]
  },
  {
   "cell_type": "code",
   "execution_count": 20,
   "id": "b1d04229",
   "metadata": {},
   "outputs": [
    {
     "data": {
      "image/png": "[encoded data removed]",
      "text/plain": [
       "<Figure size 432x288 with 2 Axes>"
      ]
     },
     "metadata": {
      "needs_background": "light"
     },
     "output_type": "display_data"
    }
   ],
   "source": [
    "data =np.random.rand(10,10)\n",
    "cmap = plt.cm.gray\n",
    "norm = plt.Normalize(data.min(),data.max())\n",
    "rgba = cmap(norm(data))\n",
    "\n",
    "\n",
    "plt.imshow(rgba, cmap= cmap)\n",
    "plt.xlabel('m')\n",
    "plt.ylabel('n')\n",
    "plt.title('n/m = (1-p)/p')\n",
    "plt.colorbar(label = 'prob')\n",
    "plt.show()"
   ]
  },
  {
   "cell_type": "code",
   "execution_count": null,
   "id": "a924164a",
   "metadata": {},
   "outputs": [],
   "source": []
  }
 ],
 "metadata": {
  "kernelspec": {
   "display_name": "Python 3",
   "language": "python",
   "name": "python3"
  },
  "language_info": {
   "codemirror_mode": {
    "name": "ipython",
    "version": 3
   },
   "file_extension": ".py",
   "mimetype": "text/x-python",
   "name": "python",
   "nbconvert_exporter": "python",
   "pygments_lexer": "ipython3",
   "version": "3.8.8"
  }
 },
 "nbformat": 4,
 "nbformat_minor": 5
}
